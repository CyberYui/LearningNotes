{
 "cells": [
  {
   "cell_type": "code",
   "execution_count": null,
   "metadata": {},
   "outputs": [],
   "source": [
    "#-*- coding:UTF-8 -*-\n",
    "url = 'https://okjx.cc/?url='\n",
    "import sys\n",
    "\n",
    "import webbrowser\n",
    "\n",
    "sys.path.append(\"libs\")\n",
    "\n",
    "##修改链接\n",
    "urls = 'https://v.qq.com/x/cover/r2eatcdcv2deik5.html'\n",
    "print(url+urls)\n",
    "\n",
    "webbrowser.open(url+urls)\n",
    "\n",
    "print(webbrowser.get())"
   ]
  }
 ],
 "metadata": {
  "kernelspec": {
   "display_name": "Python 3",
   "language": "python",
   "name": "python3"
  },
  "language_info": {
   "codemirror_mode": {
    "name": "ipython",
    "version": 3
   },
   "file_extension": ".py",
   "mimetype": "text/x-python",
   "name": "python",
   "nbconvert_exporter": "python",
   "pygments_lexer": "ipython3",
   "version": "3.7.3"
  }
 },
 "nbformat": 4,
 "nbformat_minor": 2
}
