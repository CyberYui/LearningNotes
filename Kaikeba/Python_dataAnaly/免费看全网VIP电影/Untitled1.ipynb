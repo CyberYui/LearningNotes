{
 "cells": [
  {
   "cell_type": "code",
   "execution_count": 1,
   "metadata": {},
   "outputs": [
    {
     "name": "stdout",
     "output_type": "stream",
     "text": [
      "https://okjx.cc/?url=https://www.iqiyi.com/v_19rrf96az0.html\n",
      "<webbrowser.WindowsDefault object at 0x000002A296ABBF98>\n"
     ]
    }
   ],
   "source": [
    "#-*- coding:UTF-8 -*-\n",
    "url = 'https://okjx.cc/?url='\n",
    "import sys\n",
    "\n",
    "import webbrowser\n",
    "\n",
    "sys.path.append(\"libs\")\n",
    "\n",
    "##修改链接\n",
    "urls = 'https://www.iqiyi.com/v_19rrf96az0.html'\n",
    "print(url+urls)\n",
    "\n",
    "webbrowser.open(url+urls)\n",
    "\n",
    "print(webbrowser.get())"
   ]
  },
  {
   "cell_type": "code",
   "execution_count": null,
   "metadata": {},
   "outputs": [],
   "source": []
  },
  {
   "cell_type": "code",
   "execution_count": null,
   "metadata": {},
   "outputs": [],
   "source": []
  },
  {
   "cell_type": "code",
   "execution_count": null,
   "metadata": {},
   "outputs": [],
   "source": []
  },
  {
   "cell_type": "code",
   "execution_count": null,
   "metadata": {},
   "outputs": [],
   "source": []
  },
  {
   "cell_type": "code",
   "execution_count": null,
   "metadata": {},
   "outputs": [],
   "source": []
  },
  {
   "cell_type": "code",
   "execution_count": null,
   "metadata": {},
   "outputs": [],
   "source": []
  },
  {
   "cell_type": "code",
   "execution_count": null,
   "metadata": {},
   "outputs": [],
   "source": []
  }
 ],
 "metadata": {
  "kernelspec": {
   "display_name": "Python 3",
   "language": "python",
   "name": "python3"
  },
  "language_info": {
   "codemirror_mode": {
    "name": "ipython",
    "version": 3
   },
   "file_extension": ".py",
   "mimetype": "text/x-python",
   "name": "python",
   "nbconvert_exporter": "python",
   "pygments_lexer": "ipython3",
   "version": "3.7.3"
  }
 },
 "nbformat": 4,
 "nbformat_minor": 2
}
