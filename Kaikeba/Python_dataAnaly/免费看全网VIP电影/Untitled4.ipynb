{
 "cells": [
  {
   "cell_type": "code",
   "execution_count": 25,
   "metadata": {},
   "outputs": [
    {
     "ename": "IndentationError",
     "evalue": "expected an indented block (<ipython-input-25-fcac9871ab48>, line 5)",
     "output_type": "error",
     "traceback": [
      "\u001b[1;36m  File \u001b[1;32m\"<ipython-input-25-fcac9871ab48>\"\u001b[1;36m, line \u001b[1;32m5\u001b[0m\n\u001b[1;33m    Frame.__init__(self, master)\u001b[0m\n\u001b[1;37m        ^\u001b[0m\n\u001b[1;31mIndentationError\u001b[0m\u001b[1;31m:\u001b[0m expected an indented block\n"
     ]
    }
   ],
   "source": [
    "\n",
    "from Tkinter import *\n",
    "import random\n",
    "class snake(Frame):\n",
    "                def __init__(self, master=None):\n",
    "                Frame.__init__(self, master)\n",
    "                self.body = [(0,0)]\n",
    "                self.bodyid = []\n",
    "                self.food = [ -1, -1 ]\n",
    "                self.foodid = -1\n",
    "                self.gridcount = 10\n",
    "                self.size = 500\n",
    "                self.di = 3\n",
    "                self.speed = 500\n",
    "                self.top = self.winfo_toplevel()\n",
    "                self.top.resizable(False, False)\n",
    "                self.grid()\n",
    "                self.canvas = Canvas(self)\n",
    "                self.canvas.grid()\n",
    "                self.canvas.config(width=self.size, height=self.size,relief=RIDGE)\n",
    "                self.drawgrid()\n",
    "                s = self.size/self.gridcount\n",
    "                id = self.canvas.create_rectangle(self.body[0][0]*s,self.body[0][1]*s,\n",
    "                        (self.body[0][0]+1)*s, (self.body[0][1]+1)*s, fill=\"yellow\")）\n",
    "                self.bodyid.insert(0, id)\n",
    "                self.bind_all(\"<KeyRelease>\", self.keyrelease)\n",
    "                self.drawfood()\n",
    "                self.after(self.speed, self.drawsnake)\n",
    "                def drawgrid(self):\n",
    "                s = self.size/self.gridcount\n",
    "                for i in range(0, self.gridcount+1):\n",
    "                        self.canvas.create_line(i*s, 0, i*s, self.size)\n",
    "                        self.canvas.create_line(0, i*s, self.size, i*s)\n",
    "                def drawsnake(self):\n",
    "                s = self.size/self.gridcount\n",
    "                head = self.body[0]\n",
    "                new = [head[0], head[1]]\n",
    "                if self.di == 1:\n",
    "                        new[1] = (head[1]-1) % self.gridcount\n",
    "                elif self.di == 2:\n",
    "                        new[0] = (head[0]+1) % self.gridcount\n",
    "                elif self.di == 3:\n",
    "                        new[1] = (head[1]+1) % self.gridcount\n",
    "                else:\n",
    "                        new[0] = (head[0]-1) % self.gridcount\n",
    "                next = ( new[0], new[1] )\n",
    "                if next in self.body:\n",
    "                        exit()\n",
    "                elif next == (self.food[0], self.food[1]):\n",
    "                        self.body.insert(0, next)\n",
    "                        self.bodyid.insert(0, self.foodid)\n",
    "                        self.drawfood()\n",
    "                else:\n",
    "                        tail = self.body.pop()\n",
    "                        id = self.bodyid.pop()\n",
    "                        self.canvas.move(id, (next[0]-tail[0])*s, (next[1]-tail[1])*s)\n",
    "                        self.body.insert(0, next)\n",
    "                        self.bodyid.insert(0, id)\n",
    "                self.after(self.speed, self.drawsnake)\n",
    "                def drawfood(self):\n",
    "                s = self.size/self.gridcount\n",
    "                x = random.randrange(0, self.gridcount)\n",
    "                y = random.randrange(0, self.gridcount)\n",
    "                while (x, y) in self.body:\n",
    "                        x = random.randrange(0, self.gridcount)\n",
    "                        y = random.randrange(0, self.gridcount)\n",
    "                id = self.canvas.create_rectangle(x*s,y*s, (x+1)*s, (y+1)*s, fill=\"yellow\")\n",
    "                self.food[0] = x\n",
    "                self.food[1] = y\n",
    "                self.foodid = id\n",
    "                def keyrelease(self, event):\n",
    "                if event.keysym == \"Up\" and self.di != 3:\n",
    "                        self.di = 1\n",
    "                elif event.keysym == \"Right\" and self.di !=4:\n",
    "                        self.di = 2\n",
    "                elif event.keysym == \"Down\" and self.di != 1:\n",
    "                        self.di = 3\n",
    "                elif event.keysym == \"Left\" and self.di != 2:\n",
    "                        self.di = 4\n",
    "app = snake()\n",
    "app.master.title(\"Greedy Snake\")\n",
    "app.mainloop()"
   ]
  },
  {
   "cell_type": "code",
   "execution_count": null,
   "metadata": {},
   "outputs": [],
   "source": []
  },
  {
   "cell_type": "code",
   "execution_count": null,
   "metadata": {},
   "outputs": [],
   "source": []
  }
 ],
 "metadata": {
  "kernelspec": {
   "display_name": "Python 3",
   "language": "python",
   "name": "python3"
  },
  "language_info": {
   "codemirror_mode": {
    "name": "ipython",
    "version": 3
   },
   "file_extension": ".py",
   "mimetype": "text/x-python",
   "name": "python",
   "nbconvert_exporter": "python",
   "pygments_lexer": "ipython3",
   "version": "3.7.3"
  }
 },
 "nbformat": 4,
 "nbformat_minor": 2
}
