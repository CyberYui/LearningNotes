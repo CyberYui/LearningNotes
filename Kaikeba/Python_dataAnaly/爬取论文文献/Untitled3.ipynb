{
 "cells": [
  {
   "cell_type": "code",
   "execution_count": 9,
   "metadata": {},
   "outputs": [],
   "source": [
    "#爬取阳光电影的最新电影#\n",
    "\n",
    "from pyquery import PyQuery as pq\n",
    "import requests\n",
    "def pagep(page):\n",
    "    page_url='http://www.ygdy8.com/html/gndy/dyzz/list_23_%s.html'%page\n",
    "    headers={\n",
    "        'User-Agent':'Mozilla/5.0 (Windows NT 10.0; WOW64) AppleWebKit/537.36 (KHTML, like Gecko) Chrome/58.0.3029.110 Safari/537.36 SE 2.X MetaSr 1.0'\n",
    "    }\n",
    "    sponse=requests.get(url=page_url,headers=headers)\n",
    "    sponse.encoding='gbk'\n",
    "    decoding_ =sponse.text\n",
    "    doc=pq(decoding_)\n",
    "    The_body_of_the=doc('.ulink').items()\n",
    "    for i in The_body_of_the:\n",
    "\n",
    "        #To_find_the=i.find('td b a').text()\n",
    "        #To_find_the=i.text()\n",
    "        #A_newline=To_find_the.replace(' ','\\n')\n",
    "        URL = 'http://www.ygdy8.com'\n",
    "\n",
    "        The_movie_name=i.text()\n",
    "        The_film_addresses=URL+i.attr('href')"
   ]
  },
  {
   "cell_type": "code",
   "execution_count": 8,
   "metadata": {},
   "outputs": [
    {
     "ename": "SyntaxError",
     "evalue": "invalid syntax (<ipython-input-8-6edb450ec909>, line 3)",
     "output_type": "error",
     "traceback": [
      "\u001b[1;36m  File \u001b[1;32m\"<ipython-input-8-6edb450ec909>\"\u001b[1;36m, line \u001b[1;32m3\u001b[0m\n\u001b[1;33m    The_second_request=requests.get(url=www.ygdy8.com=headers)\u001b[0m\n\u001b[1;37m                                                     ^\u001b[0m\n\u001b[1;31mSyntaxError\u001b[0m\u001b[1;31m:\u001b[0m invalid syntax\n"
     ]
    }
   ],
   "source": [
    "        #因为下载的地址全是ftp开头 mkv结尾的 所以决定趴下来\n",
    "        #Because the download address is all FTP beginning MKV end so decided to sit down\n",
    "        The_second_request=requests.get(url=www.ygdy8.com)\n",
    "        The_second_request.encoding='gbk'\n",
    "        The_decoding =The_second_request.text\n",
    "        #解析我们想要的下载地址\n",
    "        The_doc=pq(The_decoding)\n",
    "        Download_address=The_doc('.co_content8').items()\n",
    "        for The_i in Download_address:a\n",
    "            download_address=The_i.find('td a').text()\n",
    "\n",
    "            Storage={\n",
    "                '电影名字':The_movie_name,\n",
    "                '电影的地址':The_film_addresses,\n",
    "                '电影下载地址':download_address\n",
    "            }\n",
    "            print(Storage)\n",
    "\n",
    "#循环次数可以改的 1代表一页 一页中有10多条电影信息\n",
    "for cycle in range(167):\n",
    "    pagep(cycle)"
   ]
  },
  {
   "cell_type": "code",
   "execution_count": null,
   "metadata": {},
   "outputs": [],
   "source": []
  },
  {
   "cell_type": "code",
   "execution_count": null,
   "metadata": {},
   "outputs": [],
   "source": []
  }
 ],
 "metadata": {
  "kernelspec": {
   "display_name": "Python 3",
   "language": "python",
   "name": "python3"
  },
  "language_info": {
   "codemirror_mode": {
    "name": "ipython",
    "version": 3
   },
   "file_extension": ".py",
   "mimetype": "text/x-python",
   "name": "python",
   "nbconvert_exporter": "python",
   "pygments_lexer": "ipython3",
   "version": "3.7.3"
  }
 },
 "nbformat": 4,
 "nbformat_minor": 2
}
