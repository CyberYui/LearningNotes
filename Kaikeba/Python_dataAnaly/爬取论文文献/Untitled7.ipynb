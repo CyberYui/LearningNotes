{
 "cells": [
  {
   "cell_type": "code",
   "execution_count": null,
   "metadata": {},
   "outputs": [],
   "source": [
    "import requests\n",
    "from bs4 import BeautifulSoup\n",
    "import xlsxwriter\n",
    "\n",
    "excelName = input('\f",
    "请输入excel名：')\n",
    "titelName = input('\f",
    "请输入需要爬取的标题：')\n",
    "workbook = xlsxwriter.Workbook(excelName+'.xlsx')\n",
    "# 创建一个sheet\n",
    "worksheet = workbook.add_worksheet()\n",
    "href = []\n",
    "text = []\n",
    "for s in range(2,20):\n",
    "    url = 'https://s.ixueshu.com/index.html?q='+titelName+'&page='+str(s)\n",
    "    user_agent = {\n",
    "        'Mozilla/5.0 (Windows NT 10.0; Win64; x64) AppleWebKit/537.36 (KHTML, like Gecko) Chrome/77.0.3865.90 Safari/537.36'\n",
    "    }\n",
    "    res = requests.get(url)\n",
    "    soup = BeautifulSoup(res.text, 'html.parser')\n",
    "    items = soup.find_all('a',target='_blank')\n",
    "    for i in range(1,len(items)-10,2):\n",
    "        print(str(items[i].get(\"href\"))+str(items[i].get_text()))\n",
    "        href.append(items[i].get(\"href\"))\n",
    "        text.append(items[i].get_text())\n",
    "\n",
    "worksheet.write(0, 0, \"下载链接\")\n",
    "worksheet.write(0, 1, \"论文标题标题\")\n",
    "for j in range(0,len(href)):\n",
    "    worksheet.write(j+1, 0, href[j])\n",
    "    worksheet.write(j+1, 1, text[j])\n",
    "workbook.close()"
   ]
  },
  {
   "cell_type": "code",
   "execution_count": null,
   "metadata": {},
   "outputs": [],
   "source": []
  },
  {
   "cell_type": "code",
   "execution_count": null,
   "metadata": {},
   "outputs": [],
   "source": []
  }
 ],
 "metadata": {
  "kernelspec": {
   "display_name": "Python 3",
   "language": "python",
   "name": "python3"
  },
  "language_info": {
   "codemirror_mode": {
    "name": "ipython",
    "version": 3
   },
   "file_extension": ".py",
   "mimetype": "text/x-python",
   "name": "python",
   "nbconvert_exporter": "python",
   "pygments_lexer": "ipython3",
   "version": "3.7.3"
  }
 },
 "nbformat": 4,
 "nbformat_minor": 2
}
